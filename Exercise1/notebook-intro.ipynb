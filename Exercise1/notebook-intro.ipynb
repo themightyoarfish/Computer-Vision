{
 "cells": [
  {
   "cell_type": "markdown",
   "metadata": {
    "nbpresent": {
     "id": "2a1368c8-693d-45ef-aed8-cac96d200953"
    },
    "slideshow": {
     "slide_type": "slide"
    }
   },
   "source": [
    "Welcome\n",
    "===\n",
    "This tutorial aims to demonstrate Jupyter notebook and show you a little Python to solve the exercises.\n"
   ]
  },
  {
   "cell_type": "markdown",
   "metadata": {
    "collapsed": true,
    "nbpresent": {
     "id": "5ac8d766-0246-47ba-ac8f-300c3a3986c9"
    },
    "slideshow": {
     "slide_type": "slide"
    }
   },
   "source": [
    "## Notebook User Interface\n",
    "\n",
    "This is a IPython Notebook cell. There are two (important for you) kinds of cells: *Mardown* and *Code*. You can change the cell type with the drop-down menu in the toolbar above.\n",
    "There are two different modes: *edit mode* and *command mode*. To enter command mode hit <kbd>Esc</kbd> , for edit mode hit <kbd>Return</kbd>. If you are in command mode hit <kbd>B</kbd> to insert a new cell. To eveluate a cell hit <kbd>Ctrl</kbd>+<kbd>Return</kbd>. An overview of all shortcuts can be found in Help -> Keybort Shortcuts.\n",
    "\n",
    "For more information go to: Help -> User Interface Tour"
   ]
  },
  {
   "cell_type": "markdown",
   "metadata": {
    "nbpresent": {
     "id": "9e194144-00af-41d0-bde9-0f314351a4e0"
    }
   },
   "source": [
    "This is a Markdown cell\n",
    "--------------------------\n",
    "You can format your text in an intuitive way. Hit Enter or double click to edit the cell.\n",
    "\n",
    "- example\n",
    "- bullet\n",
    "- points\n",
    "\n",
    "You can write *italic text* or **bold text**\n",
    "\n",
    "or even latex formulars: $$ (x+y)^n = \\sum_{k=0}^{n}\\binom{n}{k} x^{n-k}y^{k} $$\n",
    "\n"
   ]
  },
  {
   "cell_type": "markdown",
   "metadata": {
    "nbpresent": {
     "id": "85323583-9003-4206-98da-c1a4e54e3917"
    },
    "slideshow": {
     "slide_type": "slide"
    }
   },
   "source": [
    "# Python"
   ]
  },
  {
   "cell_type": "markdown",
   "metadata": {
    "nbpresent": {
     "id": "31dc5d7c-eafc-4f9b-b592-66128383718a"
    }
   },
   "source": [
    "Online Tutorials:\n",
    "=====\n",
    "\n",
    "interactive python tutorial for beginners: https://www.codecademy.com/learn/python\n",
    "\n",
    "another one for beginners: http://www.learnpython.org/\n",
    "\n",
    "video lecture: https://www.coursera.org/learn/python\n",
    "\n",
    "_____\n",
    "\n",
    "**If you chose one of the tutorials ignore the rest of this...**\n",
    "\n",
    "____"
   ]
  },
  {
   "cell_type": "markdown",
   "metadata": {
    "collapsed": true,
    "nbpresent": {
     "id": "6a20891f-1cd1-4dd5-a308-a46022e0d607"
    }
   },
   "source": [
    "## Comments\n",
    "Comments in Python start with #."
   ]
  },
  {
   "cell_type": "code",
   "execution_count": null,
   "metadata": {
    "collapsed": true,
    "nbpresent": {
     "id": "a607d127-c808-40e5-abb5-906b1ef8177e"
    }
   },
   "outputs": [],
   "source": [
    "# This is a code cell containing just a comment"
   ]
  },
  {
   "cell_type": "markdown",
   "metadata": {
    "nbpresent": {
     "id": "1ac652e5-72e0-43ff-bdee-22759cb5ef3c"
    }
   },
   "source": [
    "## Types\n",
    "\n",
    "Python has some basic types:"
   ]
  },
  {
   "cell_type": "code",
   "execution_count": null,
   "metadata": {
    "collapsed": false,
    "nbpresent": {
     "id": "5264318d-3cb1-4c8c-8990-8e4449c74d23"
    }
   },
   "outputs": [],
   "source": [
    "1        # this is an integer\n",
    "1.1      # this is a float\n",
    "'this is a string' # or\n",
    "\"this is a string\"\n",
    "True     # this is a boolean\n",
    "None     # None is used to represent the absens of a value"
   ]
  },
  {
   "cell_type": "code",
   "execution_count": null,
   "metadata": {
    "collapsed": false,
    "nbpresent": {
     "id": "81a50a8a-00ac-44d2-86e5-0a75c4711f71"
    }
   },
   "outputs": [],
   "source": [
    "type(1)"
   ]
  },
  {
   "cell_type": "code",
   "execution_count": null,
   "metadata": {
    "collapsed": false,
    "nbpresent": {
     "id": "43672a31-a232-42e7-a823-edf1e7dc40a1"
    }
   },
   "outputs": [],
   "source": [
    "len('hello')"
   ]
  },
  {
   "cell_type": "markdown",
   "metadata": {
    "nbpresent": {
     "id": "a32b696c-999a-4cbc-9840-79a1fc2a6089"
    }
   },
   "source": [
    "## Variables\n",
    "\n",
    "Variables are named pieces of memory. They can keep values. Variable names should be speaking, i.e. whole words, separated by underscore: "
   ]
  },
  {
   "cell_type": "code",
   "execution_count": null,
   "metadata": {
    "collapsed": false,
    "nbpresent": {
     "id": "4a34108e-0e62-452a-a0e5-54d18d4a97d3"
    }
   },
   "outputs": [],
   "source": [
    "# Variables\n",
    "a = 1\n",
    "b = 1.1\n",
    "c = 'this is a string'\n",
    "d = True\n",
    "n = None\n",
    "\n",
    "long_name = 42\n",
    "\n",
    "print(a, b, c, d, n, long_name)"
   ]
  },
  {
   "cell_type": "code",
   "execution_count": null,
   "metadata": {
    "collapsed": true,
    "nbpresent": {
     "id": "4cdedd96-fc1e-4072-b9d5-4bc710523c2d"
    }
   },
   "outputs": [],
   "source": [
    "a=3"
   ]
  },
  {
   "cell_type": "code",
   "execution_count": null,
   "metadata": {
    "collapsed": false,
    "nbpresent": {
     "id": "929d534f-dbbd-4396-88ac-bca259035deb"
    }
   },
   "outputs": [],
   "source": [
    "print(a)"
   ]
  },
  {
   "cell_type": "markdown",
   "metadata": {
    "nbpresent": {
     "id": "6487abef-7ff9-492e-a8d5-01e57c305d4e"
    }
   },
   "source": [
    "### Simple Artithmetic"
   ]
  },
  {
   "cell_type": "code",
   "execution_count": null,
   "metadata": {
    "collapsed": false,
    "nbpresent": {
     "id": "2a0a810d-c4d4-4a9e-816e-6767fb0b7bf3"
    }
   },
   "outputs": [],
   "source": [
    "print(1 + 1)\n",
    "print(2 * 3)\n",
    "print(6 / 2)\n",
    "print(2 / 6)\n",
    "print(2 ** 6)"
   ]
  },
  {
   "cell_type": "markdown",
   "metadata": {
    "nbpresent": {
     "id": "662b4b8f-5027-482a-9b92-5b92a2e6345a"
    }
   },
   "source": [
    "## Boolean Arithmetic"
   ]
  },
  {
   "cell_type": "code",
   "execution_count": null,
   "metadata": {
    "collapsed": false,
    "nbpresent": {
     "id": "57bc4d39-a74b-4970-ba30-a4befadfaf79"
    }
   },
   "outputs": [],
   "source": [
    "a = True\n",
    "b = False\n",
    "print( a and b )\n",
    "print( a or b )\n",
    "print( not a )"
   ]
  },
  {
   "cell_type": "code",
   "execution_count": null,
   "metadata": {
    "collapsed": false,
    "nbpresent": {
     "id": "fdee250a-42da-4d37-bf47-9c7180aafc5f"
    }
   },
   "outputs": [],
   "source": [
    "print( all([True, True, False]))\n",
    "print( any([True, True, False]))"
   ]
  },
  {
   "cell_type": "code",
   "execution_count": null,
   "metadata": {
    "collapsed": false,
    "nbpresent": {
     "id": "e5995b92-d22b-48ea-bdc7-7e1b7c6965bf"
    },
    "slideshow": {
     "slide_type": "slide"
    }
   },
   "outputs": [],
   "source": [
    "# Code cells can contain interactive commands:\n",
    "# click to edit, Ctrl+Enter to execute\n",
    "a = input('First Number: ')\n",
    "b = input('Second Number: ')\n",
    "c = float(a) + float(b)\n",
    "print('Result:', c)"
   ]
  },
  {
   "cell_type": "markdown",
   "metadata": {
    "nbpresent": {
     "id": "d6dd5a1c-e877-49f3-a029-bc8969fb728c"
    },
    "slideshow": {
     "slide_type": "slide"
    }
   },
   "source": [
    "Lists\n",
    "-----\n",
    "Lists are one of the most importent data structures in Python. You can store elements of different types in the same list. The first index is zero."
   ]
  },
  {
   "cell_type": "code",
   "execution_count": null,
   "metadata": {
    "collapsed": false,
    "nbpresent": {
     "id": "458056bf-0d7c-494f-9d75-6fe75bfeefab"
    }
   },
   "outputs": [],
   "source": [
    "L = ['a', 'b', 'c', 'd'] # create a list of four strings\n",
    "\n",
    "# Indexing\n",
    "L[0]    # access the first element of the list\n",
    "L[1]    # access the second element of the list\n",
    "L[-2]   # access second last element of the list\n",
    "L[1:]   # cut of the first element\n",
    "L[:2]   # cuts of everything after the second element\n",
    "L[1:-1] # cut of the first and the last element\n",
    "\n",
    "print(L[1:-1])"
   ]
  },
  {
   "cell_type": "code",
   "execution_count": null,
   "metadata": {
    "collapsed": false,
    "nbpresent": {
     "id": "773df7b6-a0b9-46f4-ba4c-f1338c961067"
    }
   },
   "outputs": [],
   "source": [
    "# assign a new value to index 3\n",
    "\n",
    "L[3] = 'other value' \n",
    "\n",
    "print(L)"
   ]
  },
  {
   "cell_type": "code",
   "execution_count": null,
   "metadata": {
    "collapsed": false,
    "nbpresent": {
     "id": "af95fc4c-429e-4acb-b7e4-2626c485d962"
    }
   },
   "outputs": [],
   "source": [
    "# assign new values from index one to index 3\n",
    "\n",
    "L[1:3] = [12,13,14]\n",
    "\n",
    "print(L)"
   ]
  },
  {
   "cell_type": "code",
   "execution_count": null,
   "metadata": {
    "collapsed": false,
    "nbpresent": {
     "id": "bd65765c-9e33-4f98-a983-f8ea467295e8"
    }
   },
   "outputs": [],
   "source": [
    "# delete index 3\n",
    "\n",
    "del L[3]\n",
    "\n",
    "print(L)"
   ]
  },
  {
   "cell_type": "code",
   "execution_count": null,
   "metadata": {
    "collapsed": false,
    "nbpresent": {
     "id": "c63811ba-c3d5-4528-b585-e1568ff65371"
    }
   },
   "outputs": [],
   "source": [
    "L.append('new element') # add an element to the end of the list\n",
    "L.extend([1,2,3]) # add the elements of one list to the elements of another list\n",
    "L.insert(2,'new value') # insert a value between index 2 and three\n",
    "\n",
    "print(L)"
   ]
  },
  {
   "cell_type": "code",
   "execution_count": null,
   "metadata": {
    "collapsed": false,
    "nbpresent": {
     "id": "1756052c-80b2-43fd-9260-eb6a31df84ac"
    }
   },
   "outputs": [],
   "source": [
    "print(len(L))"
   ]
  },
  {
   "cell_type": "code",
   "execution_count": null,
   "metadata": {
    "collapsed": false,
    "nbpresent": {
     "id": "4b6b7e64-c2a1-4fbe-a335-3d4108af87f1"
    }
   },
   "outputs": [],
   "source": [
    "R = range(10)\n",
    "\n",
    "print(R)\n",
    "print(len(R))"
   ]
  },
  {
   "cell_type": "markdown",
   "metadata": {
    "nbpresent": {
     "id": "55027353-55bf-48a9-851c-66b3bbc52357"
    }
   },
   "source": [
    "### List comprehension\n",
    "\n",
    "Define lists similar to sets in math:\n",
    "$$L = \\{x^2 \\mid x \\in R\\}$$"
   ]
  },
  {
   "cell_type": "code",
   "execution_count": null,
   "metadata": {
    "collapsed": false,
    "nbpresent": {
     "id": "aaf484bc-016c-4bad-9397-0f8ae64a9fb1"
    }
   },
   "outputs": [],
   "source": [
    "L = [x**2 for x in R]\n",
    "\n",
    "print(L)"
   ]
  },
  {
   "cell_type": "code",
   "execution_count": null,
   "metadata": {
    "collapsed": false,
    "nbpresent": {
     "id": "3d4ec9c1-b17d-452a-9791-2eb61a129385"
    }
   },
   "outputs": [],
   "source": [
    "[1,2,3,2,5].count(2)"
   ]
  },
  {
   "cell_type": "markdown",
   "metadata": {
    "nbpresent": {
     "id": "322312a4-38a9-4806-9a05-69913bcaa33e"
    }
   },
   "source": [
    "### Tupels\n",
    "\n",
    "Tupels are fixed length, immutable entities"
   ]
  },
  {
   "cell_type": "code",
   "execution_count": null,
   "metadata": {
    "collapsed": false,
    "nbpresent": {
     "id": "4f660045-998c-49e1-9013-70216428bad5"
    }
   },
   "outputs": [],
   "source": [
    "T = (1,2,3,'hello')\n",
    "print(T)\n",
    "print(T[3])"
   ]
  },
  {
   "cell_type": "markdown",
   "metadata": {
    "nbpresent": {
     "id": "6ecc1d41-ea5a-4eb0-bda5-7bfc472ce4c6"
    },
    "slideshow": {
     "slide_type": "slide"
    }
   },
   "source": [
    "Dictionaries\n",
    "-------------\n",
    "Dictionaries store key value pairs."
   ]
  },
  {
   "cell_type": "code",
   "execution_count": null,
   "metadata": {
    "collapsed": false,
    "nbpresent": {
     "id": "f5920d86-b097-45f5-9e7f-0c94ff0b7909"
    }
   },
   "outputs": [],
   "source": [
    "D = {'a' : 33} # create an empty dictionary\n",
    "\n",
    "D['hello'] = 'world' # assign value 'world' to key 'hello'\n",
    "D[42] = 999 # key and values can be numbers\n",
    "D['foo'] = [1,2,3] # values can also be lists or any other objects\n",
    "\n",
    "print(D)"
   ]
  },
  {
   "cell_type": "code",
   "execution_count": null,
   "metadata": {
    "collapsed": false,
    "nbpresent": {
     "id": "7a858d72-1a02-4cdd-90b0-86031a7fc3a9"
    }
   },
   "outputs": [],
   "source": [
    "# access is pretty easy\n",
    "\n",
    "v = D['hello']\n",
    "\n",
    "print(v)"
   ]
  },
  {
   "cell_type": "code",
   "execution_count": null,
   "metadata": {
    "collapsed": false,
    "nbpresent": {
     "id": "898a968d-5195-48c1-8eea-0116afec12d0"
    }
   },
   "outputs": [],
   "source": [
    "# deletion of a key-value pair\n",
    "\n",
    "del D['hello']\n",
    "\n",
    "print(D)"
   ]
  },
  {
   "cell_type": "code",
   "execution_count": null,
   "metadata": {
    "collapsed": false,
    "nbpresent": {
     "id": "13bd88ce-b2a1-4d3c-a4b7-1ff01d777cf3"
    }
   },
   "outputs": [],
   "source": [
    "D['foo'] = 23\n",
    "\n",
    "print(D)"
   ]
  },
  {
   "cell_type": "markdown",
   "metadata": {
    "nbpresent": {
     "id": "8454487f-5587-4739-8a7b-a53d5a52b823"
    },
    "slideshow": {
     "slide_type": "slide"
    }
   },
   "source": [
    "Control Structures\n",
    "---"
   ]
  },
  {
   "cell_type": "code",
   "execution_count": null,
   "metadata": {
    "collapsed": false,
    "nbpresent": {
     "id": "40ccb5d6-72c2-4ddb-ac22-c880f8dd58ea"
    }
   },
   "outputs": [],
   "source": [
    "a = 1\n",
    "b = 2\n",
    "c = 3 # create variables a,b and c and assign values 1,2 and 3\n",
    "\n",
    "if a == b :\n",
    "    print('a equal to b')\n",
    "elif a < b:\n",
    "    print('a smaller than b')\n",
    "else :\n",
    "    print('a bigger than b')\n",
    "\n",
    "if a < b < c :\n",
    "    print('b between a and c')\n",
    "\n",
    "if a in [1,2,3] :\n",
    "    print('in is in [1,2,3]')"
   ]
  },
  {
   "cell_type": "markdown",
   "metadata": {
    "nbpresent": {
     "id": "57db50a3-f8b4-4266-bba7-ee96e57cc3cc"
    }
   },
   "source": [
    "## Loops\n",
    "\n"
   ]
  },
  {
   "cell_type": "code",
   "execution_count": null,
   "metadata": {
    "collapsed": false,
    "nbpresent": {
     "id": "9ae59d74-4b64-4879-a22c-43f0e8f13a59"
    }
   },
   "outputs": [],
   "source": [
    "# A for loop takes a list and iterates over its elements\n",
    "L = ['a', 'b', 'ccc']\n",
    "\n",
    "for element in L:\n",
    "    print(element)\n",
    "    print(len(element))"
   ]
  },
  {
   "cell_type": "code",
   "execution_count": null,
   "metadata": {
    "collapsed": false,
    "nbpresent": {
     "id": "2a997092-0c22-4379-912d-7cf7b009ccab"
    }
   },
   "outputs": [],
   "source": [
    "# for loops are often used together with range\n",
    "\n",
    "for i in range(2,20,3):\n",
    "    print(i)"
   ]
  },
  {
   "cell_type": "code",
   "execution_count": null,
   "metadata": {
    "collapsed": false,
    "nbpresent": {
     "id": "69567e51-ab7e-4204-a1e6-a7c0c04396f8"
    }
   },
   "outputs": [],
   "source": [
    "# while loop\n",
    "\n",
    "a = 1\n",
    "while a < 4 :\n",
    "    print(a)\n",
    "    a+=1"
   ]
  },
  {
   "cell_type": "markdown",
   "metadata": {
    "nbpresent": {
     "id": "54af4939-9318-4aed-97c8-2a159a0ea4e4"
    }
   },
   "source": [
    "## Functions\n",
    "\n",
    "- A function is a block of code that is used to perform a single action.\n",
    "- Functions provide better modularity and support reuse."
   ]
  },
  {
   "cell_type": "code",
   "execution_count": null,
   "metadata": {
    "collapsed": true,
    "nbpresent": {
     "id": "237512c2-ab77-4875-9588-9c462b2f0c50"
    }
   },
   "outputs": [],
   "source": [
    "def plus(a,b):\n",
    "    \"\"\"\n",
    "    Add the two arguments a and b.\n",
    "    \"\"\"\n",
    "    r = a + b\n",
    "    return r"
   ]
  },
  {
   "cell_type": "code",
   "execution_count": null,
   "metadata": {
    "collapsed": false,
    "nbpresent": {
     "id": "bc574367-4b77-4bea-8e89-dc78c8d5fc29"
    }
   },
   "outputs": [],
   "source": [
    "result = plus(2,3)\n",
    "\n",
    "print(result)"
   ]
  },
  {
   "cell_type": "code",
   "execution_count": null,
   "metadata": {
    "collapsed": false,
    "nbpresent": {
     "id": "562a5d5d-6dfe-430b-8184-5f4e5c563a67"
    }
   },
   "outputs": [],
   "source": [
    "print(plus.__doc__)"
   ]
  },
  {
   "cell_type": "code",
   "execution_count": null,
   "metadata": {
    "collapsed": true
   },
   "outputs": [],
   "source": [
    "plus?"
   ]
  },
  {
   "cell_type": "markdown",
   "metadata": {
    "nbpresent": {
     "id": "e6f54056-77c9-4073-a657-09bae30c1785"
    },
    "slideshow": {
     "slide_type": "slide"
    }
   },
   "source": [
    "## Images\n",
    "\n",
    "Images are important for computer vision!\n",
    "\n",
    "* no direct support, but by libraries\n",
    "* we will start with numpy + scipy + matplotlib (more on that during the next weeks)\n"
   ]
  },
  {
   "cell_type": "markdown",
   "metadata": {},
   "source": [
    "`scipy.misc` provides functions to load and save images:"
   ]
  },
  {
   "cell_type": "code",
   "execution_count": null,
   "metadata": {
    "collapsed": true
   },
   "outputs": [],
   "source": [
    "from scipy import misc\n",
    "img = misc.imread('starship.png')"
   ]
  },
  {
   "cell_type": "markdown",
   "metadata": {},
   "source": [
    "Images are `numpy` arrays:"
   ]
  },
  {
   "cell_type": "code",
   "execution_count": null,
   "metadata": {
    "collapsed": false,
    "nbpresent": {
     "id": "25578599-b8dc-4510-9c76-6bf612ea17fb"
    }
   },
   "outputs": [],
   "source": [
    "print(type(img))\n",
    "print(img.shape)\n",
    "print(img.dtype)"
   ]
  },
  {
   "cell_type": "markdown",
   "metadata": {},
   "source": [
    "Images can be displayed using `matplotlib`"
   ]
  },
  {
   "cell_type": "code",
   "execution_count": null,
   "metadata": {
    "collapsed": false
   },
   "outputs": [],
   "source": [
    "import matplotlib.pyplot as plt\n",
    "\n",
    "plt.figure()\n",
    "#plt.axis('off')\n",
    "plt.imshow(img, cmap = plt.get_cmap('gray'))\n",
    "plt.show()"
   ]
  },
  {
   "cell_type": "markdown",
   "metadata": {},
   "source": [
    "Individual pixels and pixel ranges of an image can be accessed by indices:"
   ]
  },
  {
   "cell_type": "code",
   "execution_count": null,
   "metadata": {
    "collapsed": false
   },
   "outputs": [],
   "source": [
    "img[100:150,100:150] = 0"
   ]
  }
 ],
 "metadata": {
  "anaconda-cloud": {},
  "kernelspec": {
   "display_name": "Python 3",
   "language": "python",
   "name": "python3"
  },
  "language_info": {
   "codemirror_mode": {
    "name": "ipython",
    "version": 3
   },
   "file_extension": ".py",
   "mimetype": "text/x-python",
   "name": "python",
   "nbconvert_exporter": "python",
   "pygments_lexer": "ipython3",
   "version": "3.5.2"
  }
 },
 "nbformat": 4,
 "nbformat_minor": 0
}
