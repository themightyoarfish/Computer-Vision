{
 "cells": [
  {
   "cell_type": "markdown",
   "metadata": {},
   "source": [
    "Osnabrück University - Computer Vision (Winter Term 2016/17) - Prof. Dr.-Ing. G. Heidemann, Ulf Krumnack"
   ]
  },
  {
   "cell_type": "markdown",
   "metadata": {},
   "source": [
    "# Exercise Sheet 03: Morphological Operations¶"
   ]
  },
  {
   "cell_type": "markdown",
   "metadata": {},
   "source": [
    "## Introduction\n",
    "\n",
    "This week's sheet should be solved and handed in before the end of **Sunday, November 27, 2016**. If you need help (and Google and other resources were not enough), feel free to contact your groups' designated tutor or whomever of us you run into first. Please upload your results to your group's Stud.IP folder."
   ]
  },
  {
   "cell_type": "markdown",
   "metadata": {},
   "source": [
    "## Assignment 0: Math recap (complex numbers) [0 Points]\n",
    "\n",
    "This exercise is supposed to be very easy, does not give any points, and is voluntary. There will be a similar exercise on every sheet. It is intended to revise some basic mathematical notions that are assumed throughout this class and to allow you to check if you are comfortable with them. Usually you should have no problem to answer these questions offhand, but if you feel unsure, this is a good time to look them up again. You are always welcome to discuss questions with the tutors or in the practice session. Also, if you have a (math) topic you would like to recap, please let us know."
   ]
  },
  {
   "cell_type": "markdown",
   "metadata": {},
   "source": [
    "**a)** What is a *complex number*, what is the *complex plane*, how are complex numbers usually denoted?"
   ]
  },
  {
   "cell_type": "markdown",
   "metadata": {
    "collapsed": true,
    "solution": true
   },
   "source": [
    "gtfo"
   ]
  },
  {
   "cell_type": "markdown",
   "metadata": {},
   "source": [
    "**b)** What is the *real* and the *imaginary* part of a complex number? What is the *absolute value* of a complex number? What is the *complex conjugate*?"
   ]
  },
  {
   "cell_type": "raw",
   "metadata": {
    "collapsed": true,
    "solution": true
   },
   "source": [
    "FIXME: change cell type to 'Markdown' and put your answer here!"
   ]
  },
  {
   "cell_type": "markdown",
   "metadata": {},
   "source": [
    "**c)** What are polar coordinates? What are their advantages? Can you convert between cartesian and polar coordinates? Can you write down $i=\\sqrt{-1}$ in polar coordinates? What about $\\sqrt{i}$?"
   ]
  },
  {
   "cell_type": "markdown",
   "metadata": {
    "collapsed": true,
    "solution": true
   },
   "source": [
    "I did this an then jupyter decided to crash while parsing latex so all is lost. Now I don't care anymore."
   ]
  },
  {
   "cell_type": "markdown",
   "metadata": {},
   "source": [
    "**d)** [bonus task] Python, and also numpy, support calculations with complex numbers. Consult the documentation to find out details."
   ]
  },
  {
   "cell_type": "code",
   "execution_count": 1,
   "metadata": {
    "collapsed": false,
    "solution": true
   },
   "outputs": [
    {
     "ename": "NameError",
     "evalue": "name 'np' is not defined",
     "output_type": "error",
     "traceback": [
      "\u001b[0;31m---------------------------------------------------------------\u001b[0m",
      "\u001b[0;31mNameError\u001b[0m                     Traceback (most recent call last)",
      "\u001b[0;32m<ipython-input-1-5d8dbb671c62>\u001b[0m in \u001b[0;36m<module>\u001b[0;34m()\u001b[0m\n\u001b[0;32m----> 1\u001b[0;31m \u001b[0mnp\u001b[0m\u001b[0;34m.\u001b[0m\u001b[0mcomplex\u001b[0m\u001b[0;34m(\u001b[0m\u001b[0mreal\u001b[0m\u001b[0;34m,\u001b[0m \u001b[0mimag\u001b[0m\u001b[0;34m)\u001b[0m\u001b[0;34m\u001b[0m\u001b[0m\n\u001b[0m",
      "\u001b[0;31mNameError\u001b[0m: name 'np' is not defined"
     ]
    }
   ],
   "source": [
    "np.complex(real, imag)"
   ]
  },
  {
   "cell_type": "markdown",
   "metadata": {},
   "source": [
    "## Assignment 1: Morphological operators [8 Points]\n",
    "\n",
    "This exercise will elaborate on the basic morphological operators of *erosion* and *dilation* (cf. CV-05 slides 4-14)."
   ]
  },
  {
   "cell_type": "markdown",
   "metadata": {},
   "source": [
    "### a) Binary convolution\n",
    "\n",
    "Describe in your own words the morphological operations *erosion* and *dilation*. Compare them with 2D convolution, name commonalities and differences."
   ]
  },
  {
   "cell_type": "markdown",
   "metadata": {
    "collapsed": true,
    "solution": true
   },
   "source": [
    "**For both operations, a binary kernel slides over the image. If the patch around the current center pixel exactly matches the kernel (all 1s overlap with the kernel 1s), the resulting pixel value is 1 else 0 (erosion). For dilation, he 1-condition is that at least one 1-pixel in the patch must overlap a 1-pixel in the kernel.**"
   ]
  },
  {
   "cell_type": "markdown",
   "metadata": {},
   "source": [
    "### b) Duality\n",
    "\n",
    "Proof that *erosion* and *dilation* are *dual* operators, i.e.\n",
    "\n",
    "$$ g^{\\ast}\\oplus S = (g\\ominus S)^{\\ast}\\qquad\\text{and}\\qquad\n",
    "g^{\\ast}\\ominus S = (g\\oplus S)^{\\ast}$$\n",
    "\n",
    "here $g^{\\ast}$ denotes the inverted binary image, i.e. $g^{\\ast}(x,y) = 1 - g(x,y) = \\neg g(x,y)$, i.e. 1-pixel become 0 and 0-pixel become 1."
   ]
  },
  {
   "cell_type": "markdown",
   "metadata": {
    "collapsed": true,
    "solution": true
   },
   "source": [
    "**I only managed to prove that it is not true if you use the boolean logic formulation.**"
   ]
  },
  {
   "cell_type": "markdown",
   "metadata": {},
   "source": [
    "### c) Superposition\n",
    "\n",
    "As *erosion* and *dilation* have been introduced for binary images, the notion of *linearity* is not really appropriate here. However, some weaker version, called *superposition* can be defined: instead of forming linear combination, one takes the logical disjunktion:\n",
    "\n",
    "$$(g_1\\lor g_2)(x,y) := g_1(x,y)\\lor g_2(x,y)$$\n",
    "\n",
    "Check if *erosion* and *dilation* are \"compatible\" with superposition, i.e. if first *eroding*/*dilating* two images and superposing the result is the same as first superposing the images and then *eroding*/*dilating* the result."
   ]
  },
  {
   "cell_type": "markdown",
   "metadata": {
    "collapsed": true,
    "solution": true
   },
   "source": [
    "Dilation\n",
    "========\n",
    "* $(g_1 \\vee g_2) \\oplus S = \\bigvee\\bigvee S \\wedge (g_1 \\vee g_2) = \\bigvee\\bigvee (S\\wedge g_1 \\vee S \\wedge g_2)$\n",
    "* $g_1\\oplus S \\vee g_2\\oplus S = \\bigvee\\bigvee S \\wedge g_1 \\vee \\bigvee\\bigvee S \\wedge g_2 = \\bigvee\\bigvee (S\\wedge g_1 \\vee S \\wedge g_2)$\n",
    "\n",
    "Erosion\n",
    "========\n",
    "* $(g_1 \\vee g_2) \\ominus S = \\bigwedge\\bigwedge S \\wedge (g_1 \\vee g_2) = \\bigwedge\\bigwedge (S \\wedge g_1 \\vee S \\wedge g_2)$\n",
    "* $g_1\\ominus S \\vee g_2\\ominus S = \\bigwedge\\bigwedge S \\wedge g_1 \\vee \\bigwedge\\bigwedge S \\wedge g_1$\n",
    "\n",
    "**These cannot be simplified further and are not identical. Hence only dilation is compatible with superposition**"
   ]
  },
  {
   "cell_type": "markdown",
   "metadata": {},
   "source": [
    "### d) Chaining\n",
    "\n",
    "Show that *dilation* and *erosion* have the following properties: given two structering elements $S_1$ and $S_2$, it holds\n",
    "\n",
    "\\begin{align}\n",
    "  (g\\oplus S_1)\\oplus S_2 & = g\\oplus (S_1\\oplus S_2) & = (g\\oplus S_2)\\oplus S_1 \\\\\n",
    "  (g\\ominus S_1)\\ominus S_2 & = g\\ominus (S_1\\oplus S_2) & = (g\\ominus S_2)\\ominus S_1 \\\\  \n",
    "\\end{align}\n",
    "\n",
    "What are the practical consequences?"
   ]
  },
  {
   "cell_type": "markdown",
   "metadata": {
    "collapsed": true,
    "solution": true
   },
   "source": [
    "<b>\n",
    "* When multiple dilation with different structuring elements is required, computational cost can be reduced why first eroding the structuring elements with one another, instead of the (usually larger) image.\n",
    "* Multiple dilations can always be done in a single operation by precomputing the required structuring element\n",
    "* Multiple erosions can be likewise combined by dilating the structuring elements\n",
    "* The order of dilations or the order of erosions is irrelevant\n",
    "</b>"
   ]
  },
  {
   "cell_type": "markdown",
   "metadata": {},
   "source": [
    "## Assignment 2: Application [6 Points]\n"
   ]
  },
  {
   "cell_type": "markdown",
   "metadata": {},
   "source": [
    "### a) Boundary extraction\n",
    "\n",
    "Extract the boundary of a shape using opening or closing. You may use `binary_opening` or `binary_closing` from `scipy.ndimage.morphology`."
   ]
  },
  {
   "cell_type": "code",
   "execution_count": 3,
   "metadata": {
    "collapsed": false
   },
   "outputs": [
    {
     "data": {
      "image/png": "[encoded data removed]",
      "text/plain": [
       "<matplotlib.figure.Figure at 0x10bca3d30>"
      ]
     },
     "metadata": {},
     "output_type": "display_data"
    }
   ],
   "source": [
    "import numpy as np\n",
    "import matplotlib.pyplot as plt\n",
    "import scipy.ndimage.morphology as morph\n",
    "\n",
    "def my_boundary(img, ksize=(10,10)):\n",
    "    \"\"\"\n",
    "    Compute boundary of binary image.\n",
    "\n",
    "    Parameters\n",
    "    ----------\n",
    "    img : ndarray of bools\n",
    "        A binary image.\n",
    "        \n",
    "    Returns\n",
    "    -------\n",
    "    boundary : ndarray of bools\n",
    "        The boundary as a binary image.\n",
    "    \"\"\"\n",
    "    \n",
    "    return img ^ morph.binary_erosion(img, np.ones(ksize))\n",
    "    \n",
    "    \n",
    "img = plt.imread(\"engelstrompete.png\") > 0\n",
    "plt.gray()\n",
    "plt.imshow(my_boundary(img))\n",
    "plt.show()"
   ]
  },
  {
   "cell_type": "markdown",
   "metadata": {},
   "source": [
    "### b)  Distance transform\n",
    "\n",
    "Implement distance transform according to the ideas of (CV-05 slides 34ff).  Discuss the effect of different structuring elements."
   ]
  },
  {
   "cell_type": "code",
   "execution_count": 26,
   "metadata": {
    "collapsed": false
   },
   "outputs": [
    {
     "data": {
      "image/png": "[encoded data removed]",
      "text/plain": [
       "<matplotlib.figure.Figure at 0x11052a390>"
      ]
     },
     "metadata": {},
     "output_type": "display_data"
    }
   ],
   "source": [
    "import numpy as np\n",
    "import matplotlib.pyplot as plt\n",
    "from scipy.ndimage import morphology as morph, generate_binary_structure\n",
    "\n",
    "def my_generalized_distance_transform(img, **kwargs):\n",
    "    dt1 = np.zeros(img.shape, np.int32)\n",
    "    c = 1\n",
    "    img_wo_boundary = img.copy()\n",
    "    # while not completely eroded\n",
    "    while np.any(img_wo_boundary):\n",
    "        # find boundary\n",
    "        boundary = my_boundary(img_wo_boundary, **kwargs)\n",
    "        img_wo_boundary ^= boundary # shave of current boundary\n",
    "        dt1[boundary] = c # boundary can be used as mask\n",
    "        c += 1 # make brighter with every step\n",
    "\n",
    "    dt2 = np.zeros(img.shape, np.int32)\n",
    "    c = 1\n",
    "    img_wo_boundary = ~img.copy()\n",
    "    # while not completely eroded\n",
    "    while np.any(img_wo_boundary):\n",
    "        # find boundary\n",
    "        boundary = my_boundary(img_wo_boundary, **kwargs)\n",
    "        img_wo_boundary ^= boundary # shave of current boundary\n",
    "        dt2[boundary] = c # boundary can be used as mask\n",
    "        c += 1 # make brighter with every step\n",
    "    \n",
    "    result = dt1 - dt2\n",
    "    # m = result.min()\n",
    "    # result = result + (- m if m < 0 else m)\n",
    "    return result / result.max()\n",
    "\n",
    "\n",
    "\n",
    "img = plt.imread(\"engelstrompete.png\") > 0\n",
    "plt.gray()\n",
    "plt.imshow(my_generalized_distance_transform(img, ksize=(50,50)))\n",
    "plt.show()"
   ]
  },
  {
   "cell_type": "markdown",
   "metadata": {},
   "source": [
    "**The gradient will be steeper and less smooth for larger structuring elements.**"
   ]
  },
  {
   "cell_type": "markdown",
   "metadata": {},
   "source": [
    "### c) Morphing\n",
    "\n",
    "Write a function `my_morph` that implements morphing according to (CV-05 slide 41). You may use your function `my_distance_transform` from part b), or the function `distance_transform_edt` from `scipy.ndimage.morphology`."
   ]
  },
  {
   "cell_type": "code",
   "execution_count": 25,
   "metadata": {
    "collapsed": false
   },
   "outputs": [
    {
     "data": {
      "image/png": "[encoded data removed]",
      "text/plain": [
       "<matplotlib.figure.Figure at 0x117ad4710>"
      ]
     },
     "metadata": {},
     "output_type": "display_data"
    }
   ],
   "source": [
    "import numpy as np\n",
    "import matplotlib.pyplot as plt\n",
    "import scipy.ndimage.morphology as morph\n",
    "\n",
    "\n",
    "def my_morph(A,B,ratio):\n",
    "    \"\"\"\n",
    "    Morphing from binary image A to image B.\n",
    "\n",
    "    Parameters\n",
    "    ----------\n",
    "    A : ndarray of bools\n",
    "        A binary image (start).\n",
    "    B : ndarray of bools\n",
    "        A binary image (target), same shape as A.\n",
    "    ratio : float from 0.0 to 1.0\n",
    "        The ratio of image A and image B.\n",
    "        0.0=only image A, 1.0=only image B.\n",
    "        \n",
    "    Returns\n",
    "    -------\n",
    "    morph : ndarray of bools\n",
    "        A binary intermediate image between A and B.\n",
    "    \"\"\"\n",
    "\n",
    "    d_a = my_generalized_distance_transform(A)\n",
    "    d_b = my_generalized_distance_transform(B)\n",
    "\n",
    "    result = (ratio * d_b + (1 - ratio) * d_a)\n",
    "    return result > 0\n",
    "\n",
    "\n",
    "\n",
    "img1 = plt.imread(\"kreis.png\") > 0\n",
    "img2 = plt.imread(\"engelstrompete.png\") > 0\n",
    "\n",
    "plt.gray()\n",
    "for i, ratio in enumerate(np.linspace(0, 1, 6), 1):\n",
    "    plt.subplot(2, 3, i)\n",
    "    plt.imshow(my_morph(img1, img2, ratio))\n",
    "    plt.axis('off')\n",
    "plt.show()"
   ]
  },
  {
   "cell_type": "markdown",
   "metadata": {},
   "source": [
    "## Assignment 3: Implementation: Skeletonization [6 Points]"
   ]
  },
  {
   "cell_type": "markdown",
   "metadata": {},
   "source": [
    "### a) Skeletonization with hit-or-miss\n",
    "\n",
    "Explain in your own words, how the hit-or-miss operator can be used for skeletonization (cf CV-05 slide 49).  "
   ]
  },
  {
   "cell_type": "raw",
   "metadata": {
    "collapsed": true,
    "solution": true
   },
   "source": [
    "FIXME: change cell type to 'Markdown' and put your answer here!"
   ]
  },
  {
   "cell_type": "markdown",
   "metadata": {},
   "source": [
    "### b) Implementation of skeletonization\n",
    "\n",
    "Now use this method to implement your own skeletonization function. It is ok to use\n",
    "`scipy.ndimage.morphology.binary_hit_or_miss` here (but of course *not* `skimage.morphology.skeletonize` or similar functions). Compare your result with (CV-05 slide 50). Note that computing the skeleton using this method may take some time ..."
   ]
  },
  {
   "cell_type": "code",
   "execution_count": null,
   "metadata": {
    "collapsed": false
   },
   "outputs": [],
   "source": [
    "import numpy as np\n",
    "import matplotlib.pyplot as plt\n",
    "import scipy.ndimage.morphology as morph\n",
    "\n",
    "def my_skeletonize(img):\n",
    "    \"\"\"\n",
    "    Compute the skeloton of a binary image using hit_or_miss operator.\n",
    "    \n",
    "    Parameters\n",
    "    ----------\n",
    "    img : ndarray of bools\n",
    "        Binary image to be skeletonized.\n",
    "    \n",
    "    Returns\n",
    "    -------\n",
    "    skeleton : ndarray of bools\n",
    "        The skeleton of the input image.\n",
    "    \"\"\"\n",
    "    \n",
    "    skeleton = np.zeros(img.shape,np.bool)\n",
    "    \n",
    "    # FIXME: put your code here!\n",
    "\n",
    "\n",
    "    return skeleton\n",
    "\n",
    "img = plt.imread(\"engelstrompete.png\") > 0\n",
    "skel = my_skeletonize(img)\n",
    "result = morph.distance_transform_cdt(img, metric = 'taxicab') + 50*img\n",
    "result[morph.binary_dilation(skel)] = 0\n",
    "plt.gray()\n",
    "plt.imshow(result)\n",
    "plt.show()"
   ]
  }
 ],
 "metadata": {
  "kernelspec": {
   "display_name": "Python 3",
   "language": "python",
   "name": "python3"
  },
  "language_info": {
   "codemirror_mode": {
    "name": "ipython",
    "version": 3
   },
   "file_extension": ".py",
   "mimetype": "text/x-python",
   "name": "python",
   "nbconvert_exporter": "python",
   "pygments_lexer": "ipython3",
   "version": "3.5.2"
  },
  "widgets": {
   "state": {},
   "version": "1.0.0"
  }
 },
 "nbformat": 4,
 "nbformat_minor": 1
}
