{
 "cells": [
  {
   "cell_type": "markdown",
   "metadata": {},
   "source": [
    "Osnabrück University - Computer Vision (Winter Term 2016/17) - Prof. Dr.-Ing. G. Heidemann, Ulf Krumnack"
   ]
  },
  {
   "cell_type": "markdown",
   "metadata": {},
   "source": [
    "# Exercise Sheet 06: Color Segmentation and Hough Transform"
   ]
  },
  {
   "cell_type": "markdown",
   "metadata": {},
   "source": [
    "## Introduction\n",
    "\n",
    "This week's sheet should be solved and handed in before the end of **Sunday, January 8, 2017**. If you need help (and Google and other resources were not enough), feel free to contact your groups' designated tutor or whomever of us you run into first. Please upload your results to your group's Stud.IP folder."
   ]
  },
  {
   "cell_type": "markdown",
   "metadata": {},
   "source": [
    "## Assignment 0: Math recap (Eigenvectors and Eigenvalues) [0 Points]\n",
    "\n",
    "This exercise is supposed to be very easy, does not give any points, and is voluntary. There will be a similar exercise on every sheet. It is intended to revise some basic mathematical notions that are assumed throughout this class and to allow you to check if you are comfortable with them. Usually you should have no problem to answer these questions offhand, but if you feel unsure, this is a good time to look them up again. You are always welcome to discuss questions with the tutors or in the practice session. Also, if you have a (math) topic you would like to recap, please let us know."
   ]
  },
  {
   "cell_type": "markdown",
   "metadata": {},
   "source": [
    "**a)** What is an eigenvector of a matrix/a linear mapping? What are eigenvalues?"
   ]
  },
  {
   "cell_type": "raw",
   "metadata": {
    "collapsed": true,
    "solution": true
   },
   "source": [
    "FIXME: change cell type to 'Markdown' and put your answer here!"
   ]
  },
  {
   "cell_type": "markdown",
   "metadata": {},
   "source": [
    "**b)** What is the characteristic polynomial of a matrix? How is it related to eigenvalues? What are algebraic and geometric multiplicity of an eigenvalue?"
   ]
  },
  {
   "cell_type": "raw",
   "metadata": {
    "collapsed": true,
    "solution": true
   },
   "source": [
    "FIXME: change cell type to 'Markdown' and put your answer here!"
   ]
  },
  {
   "cell_type": "markdown",
   "metadata": {},
   "source": [
    "**c)** What is the spectrum of a matrix? What does the spectral theorem state?"
   ]
  },
  {
   "cell_type": "raw",
   "metadata": {
    "collapsed": true,
    "solution": true
   },
   "source": [
    "FIXME: change cell type to 'Markdown' and put your answer here!"
   ]
  },
  {
   "cell_type": "markdown",
   "metadata": {},
   "source": [
    "## Assignment 1: $k$-means segmentation [8 Points]\n"
   ]
  },
  {
   "cell_type": "markdown",
   "metadata": {},
   "source": [
    "**a)** Explain the idea of $k$-means clustering and how it can be used for segmentation."
   ]
  },
  {
   "cell_type": "markdown",
   "metadata": {
    "collapsed": true,
    "solution": true
   },
   "source": []
  },
  {
   "cell_type": "markdown",
   "metadata": {},
   "source": [
    "**b)** Implement k-means clustering for color segmentation of an RGB image (no use of `scipy.cluster.vq.kmeans` or similar functions allowed here, but you may use functions like `numpy.mean`, `scipy.spatial.distance.pdist` and similar utility functions). Stop calculation when center vectors do not change more than a predefined threshold. Avoid empty clusters by re-initializing the corresponding center vector."
   ]
  },
  {
   "cell_type": "code",
   "execution_count": null,
   "metadata": {
    "collapsed": false
   },
   "outputs": [
    {
     "name": "stderr",
     "output_type": "stream",
     "text": [
      "/opt/local/Library/Frameworks/Python.framework/Versions/3.5/lib/python3.5/site-packages/numpy/core/_methods.py:59: RuntimeWarning: Mean of empty slice.\n",
      "  warnings.warn(\"Mean of empty slice.\", RuntimeWarning)\n",
      "/opt/local/Library/Frameworks/Python.framework/Versions/3.5/lib/python3.5/site-packages/numpy/core/_methods.py:68: RuntimeWarning: invalid value encountered in true_divide\n",
      "  ret, rcount, out=ret, casting='unsafe', subok=False)\n"
     ]
    }
   ],
   "source": [
    "import numpy as np\n",
    "import numpy.random as random\n",
    "from scipy.spatial.distance import cdist\n",
    "from scipy import misc\n",
    "import matplotlib.pyplot as plt\n",
    "from skimage import color, measure\n",
    "\n",
    "def batch_euclid(X,Y, channels):\n",
    "    return np.sqrt(np.sum(np.square(X[:,channels] - Y[:,channels]), axis=1))\n",
    "\n",
    "def kmeans(img, k, channels=np.array([0,1,2])):\n",
    "    h, w, c = img.shape\n",
    "    img_flat = np.reshape(img, (h*w, 3))\n",
    "    epsilon = 1 # one rgb value minimal motion\n",
    "    previous = random.uniform(low=img.min(), high=img.max(), size=(k,3))\n",
    "    centers = previous.copy()\n",
    "    iter = 1\n",
    "    labels = np.empty(img.shape)\n",
    "\n",
    "    while True:\n",
    "        pairwise_dists = cdist(img_flat, previous)\n",
    "        min_indices = np.argmin(pairwise_dists, axis=1)\n",
    "        labels = np.reshape(min_indices, (h, w))\n",
    "\n",
    "        previous = centers.copy()\n",
    "        for kluster in np.arange(k):\n",
    "            centers[kluster,:] = img[labels == kluster].mean(axis=0)\n",
    "            if not np.any(labels == kluster):\n",
    "                centers[kluster,:] = random.uniform(img.min(), img.max(), 3)\n",
    "        distances = batch_euclid(centers, previous, channels)\n",
    "        if (not np.any(distances > epsilon)) or iter > 1000:\n",
    "            break\n",
    "        else:\n",
    "            iter += 1\n",
    "\n",
    "    print(\"Iterations: %d\" % iter)\n",
    "    return centers, labels\n",
    "\n",
    "# this has been found to give a good result, but uses all 1000 iters\n",
    "random.seed(2)\n",
    "\n",
    "image = misc.imread('peppers.png')\n",
    "k = 6\n",
    "centers, labels = kmeans(image, k)\n",
    "for label in np.arange(k):\n",
    "    image[labels == label] = centers[label]\n",
    "    \n",
    "plt.imshow(image)\n",
    "plt.show()"
   ]
  },
  {
   "cell_type": "markdown",
   "metadata": {},
   "source": [
    "**c)** Apply your $k$-means algorithm (or some algorithm from `scipy`) to the image `peppers.png`. Label regions based on the color clusters (regions should be 4- or 8-connected). (Empirically) evaluate the result and find a good value for $k$."
   ]
  },
  {
   "cell_type": "code",
   "execution_count": null,
   "metadata": {
    "collapsed": false
   },
   "outputs": [],
   "source": [
    "# Is this what is meant?\n",
    "def label_image(cluster_img, k, n=4):\n",
    "    labels = np.zeros(cluster_img.shape)\n",
    "    count = 0\n",
    "    for c in range(k):\n",
    "        cluster_img_c = cluster_img == c\n",
    "        labels_c = measure.label(cluster_img_c, neighbors=n)\n",
    "        n_components = np.unique(labels_c).size\n",
    "        labels += (cluster_img_c * count) + labels_c\n",
    "        count += n_components\n",
    "    return labels\n",
    "\n",
    "\n",
    "\n",
    "image = misc.imread('peppers.png')\n",
    "k = 4\n",
    "centers, labels = kmeans(image, k)\n",
    "image = label_image(labels, k, 8)\n",
    "\n",
    "plt.imshow(image, cmap='prism')\n",
    "plt.show()\n"
   ]
  },
  {
   "cell_type": "markdown",
   "metadata": {},
   "source": [
    "**d)** Now do the same in the HSV space (remember its special topological structure). Check if you can improve the results by ignoring some of the HSV channels."
   ]
  },
  {
   "cell_type": "markdown",
   "metadata": {
    "collapsed": true
   },
   "source": [
    "# Hä?"
   ]
  },
  {
   "cell_type": "markdown",
   "metadata": {},
   "source": [
    "## Assignment 2: Evaluation of segmentation [4 Points]"
   ]
  },
  {
   "cell_type": "markdown",
   "metadata": {},
   "source": [
    "**a)** What are desirable featues of a good segmentation? Can they be detected automatically? What is measured by the saliency function?"
   ]
  },
  {
   "cell_type": "raw",
   "metadata": {
    "collapsed": true,
    "solution": true
   },
   "source": [
    "FIXME: change cell type to 'Markdown' and put your answer here!"
   ]
  },
  {
   "cell_type": "markdown",
   "metadata": {},
   "source": [
    "**b)** Implement the the automatic evaluation method from the lecture (CV-07 slides 112ff). Apply it to the segmentation from Assignment 1 and compare the results with your empirical observations."
   ]
  },
  {
   "cell_type": "code",
   "execution_count": 1,
   "metadata": {
    "collapsed": true
   },
   "outputs": [],
   "source": [
    "# FIXME: put your code here!\n"
   ]
  },
  {
   "cell_type": "markdown",
   "metadata": {},
   "source": [
    "## Assignment 3: Hough transform [8 Points]"
   ]
  },
  {
   "cell_type": "markdown",
   "metadata": {},
   "source": [
    "**a)** Explain in your own words the idea of Hough transform. What is an accumulator space? In what sense can the Hough transform be seen as a model-based approach?"
   ]
  },
  {
   "cell_type": "raw",
   "metadata": {
    "collapsed": true,
    "solution": true
   },
   "source": [
    "FIXME: change cell type to 'Markdown' and put your answer here!"
   ]
  },
  {
   "cell_type": "markdown",
   "metadata": {},
   "source": [
    "**b)** What is linear Hough transform? How are points, lines, polygons transformed? What about parallel lines? Try different configurations using the functions `point`, `line`, `polygon` below. Then implement your own version of linear Hough transform and compare the results with the function `skimage.transform.hough_line`."
   ]
  },
  {
   "cell_type": "raw",
   "metadata": {
    "collapsed": true,
    "solution": true
   },
   "source": [
    "FIXME: change cell type to 'Markdown' and put your answer here!"
   ]
  },
  {
   "cell_type": "code",
   "execution_count": null,
   "metadata": {
    "collapsed": false
   },
   "outputs": [],
   "source": [
    "from skimage.transform import hough_line\n",
    "import matplotlib.pyplot as plt\n",
    "import numpy as np\n",
    "import operator\n",
    "\n",
    "steps = lambda p,q : max(map(lambda x,y: abs(x-y), p, q))+1\n",
    "coords = lambda p,q,s : [np.linspace(x,y,s,dtype=np.uint16) for x,y in zip(p,q)]\n",
    "\n",
    "def point(img, p):\n",
    "    \"Insert a point in the black/white image at position p\"\n",
    "    img[p] = 1\n",
    "\n",
    "def line(img, p, q):\n",
    "    \"Insert a line from p to q in the black/white image\"\n",
    "    img[coords(p,q,steps(p,q))] = 1\n",
    "\n",
    "def polygon(img, vertices):\n",
    "    \"Insert a (closed) polygon given by a list of points into the black/white image\"\n",
    "    for p, q in zip(vertices, vertices[1:]+vertices[0:1]):\n",
    "        line(img,p,q)\n",
    "\n",
    "\n",
    "def my_hough_line(img, angles = 180):\n",
    "    \"\"\"\n",
    "    Apply linear Hough transform to the given image.\n",
    "    \"\"\"\n",
    "    d_max = int(np.ceil(np.sqrt(sum(map(np.multiply,img.shape,img.shape)))))\n",
    "    accumulator = np.zeros((2*d_max, angles), np.uint64)\n",
    "\n",
    "    # FIXME: put your code here!\n",
    "\n",
    "    return accumulator\n",
    "\n",
    "\n",
    "img = np.zeros((100,100))\n",
    "\n",
    "\n",
    "# You may try different paintings here:\n",
    "point(img, (10,10))\n",
    "line(img,(10,20),(70,20))\n",
    "polygon(img,[(10,30),(50,50),(10,70)])\n",
    "\n",
    "\n",
    "\n",
    "plt.figure(figsize=(12, 4))\n",
    "plt.gray()\n",
    "plt.subplot(1,3,1) ; plt.title('Image'); plt.imshow(img)\n",
    "\n",
    "out, angles, d = hough_line(img)\n",
    "plt.subplot(1,3,2) ; plt.title('Hough transform (skimage)');\n",
    "plt.xlabel('Angles (degrees)')\n",
    "plt.ylabel('Distance (pixels)')\n",
    "plt.imshow(np.log(1 + out), extent=[np.rad2deg(angles[-1]), np.rad2deg(angles[0]), d[-1], d[0]])\n",
    "\n",
    "my_out = my_hough_line(img)\n",
    "plt.subplot(1,3,3) ; plt.title('Hough transform (own implementation)');\n",
    "plt.imshow(np.log(1+my_out))\n",
    "plt.show()"
   ]
  },
  {
   "cell_type": "markdown",
   "metadata": {},
   "source": [
    "**c)** What does a point in the linear Hough space represent? Under which conditions is (linear) Hough transform invertible? Try to implement an inverse linear Hough transform."
   ]
  },
  {
   "cell_type": "raw",
   "metadata": {
    "collapsed": true,
    "solution": true
   },
   "source": [
    "FIXME: change cell type to 'Markdown' and put your answer here!"
   ]
  },
  {
   "cell_type": "code",
   "execution_count": null,
   "metadata": {
    "collapsed": false
   },
   "outputs": [],
   "source": [
    "from skimage.transform import hough_line\n",
    "import matplotlib.pyplot as plt\n",
    "import numpy as np\n",
    "import operator\n",
    "\n",
    "        \n",
    "def my_inverse_hough_line(accumulator, shape):\n",
    "    \"\"\"\n",
    "    Compute an inverse Hough transform, i.e. compute the image from the accumulator space.\n",
    "    \"\"\"\n",
    "    img = np.zeros(shape, np.uint64)\n",
    "    \n",
    "    # FIXME: put your code here!\n",
    "\n",
    "    return img\n",
    "\n",
    "img = np.zeros((100,100))\n",
    "\n",
    "#point(img, (10,10))\n",
    "#line(img,(10,20),(70,20))\n",
    "polygon(img,[(10,30),(50,50),(10,70)])\n",
    "\n",
    "\n",
    "plt.figure(figsize=(12, 4))\n",
    "plt.gray()\n",
    "plt.subplot(1,3,1) ; plt.title('Image'); plt.imshow(img)\n",
    "\n",
    "out, angles, d = hough_line(img)\n",
    "plt.subplot(1,3,2) ; plt.title('Hough transform (skimage)');\n",
    "plt.xlabel('Angles (degrees)')\n",
    "plt.ylabel('Distance (pixels)')\n",
    "plt.imshow(np.log(1 + out), extent=[np.rad2deg(angles[-1]), np.rad2deg(angles[0]), d[-1], d[0]])\n",
    "\n",
    "img2 = my_inverse_hough_line(out, img.shape)\n",
    "plt.subplot(1,3,3) ; plt.title('Inverse Hough transform');\n",
    "plt.imshow(img2)\n",
    "plt.show()"
   ]
  },
  {
   "cell_type": "markdown",
   "metadata": {},
   "source": [
    "**d)** Implement circular hough transform. First think how the accumulator space should be represented. You may provide an additional parameter to only look for circles of a given radius (or a range of radii). Then apply it to the image `xmas.png` to detect the balls. Mark them in the original image. (Bonus task: also detect the presents using linear Hough transform)."
   ]
  },
  {
   "cell_type": "code",
   "execution_count": 1,
   "metadata": {
    "collapsed": true
   },
   "outputs": [],
   "source": [
    "# FIXME: put your code here!\n"
   ]
  }
 ],
 "metadata": {
  "kernelspec": {
   "display_name": "Python 3",
   "language": "python",
   "name": "python3"
  },
  "language_info": {
   "codemirror_mode": {
    "name": "ipython",
    "version": 3
   },
   "file_extension": ".py",
   "mimetype": "text/x-python",
   "name": "python",
   "nbconvert_exporter": "python",
   "pygments_lexer": "ipython3",
   "version": "3.5.2"
  }
 },
 "nbformat": 4,
 "nbformat_minor": 1
}
